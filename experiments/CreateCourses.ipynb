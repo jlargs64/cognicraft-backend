{
 "cells": [
  {
   "cell_type": "code",
   "execution_count": null,
   "metadata": {},
   "outputs": [],
   "source": [
    "from langchain_ollama import ChatOllama\n",
    "from langchain_core.prompts import ChatPromptTemplate\n",
    "import json\n",
    "\n",
    "model = ChatOllama(\n",
    "    model=\"llama3.1\",\n",
    ")"
   ]
  },
  {
   "cell_type": "code",
   "execution_count": null,
   "metadata": {},
   "outputs": [],
   "source": [
    "user_prompt = \"Teach me about making games in C\""
   ]
  },
  {
   "cell_type": "markdown",
   "metadata": {},
   "source": [
    "# Generate Initial Course Data\n"
   ]
  },
  {
   "cell_type": "code",
   "execution_count": null,
   "metadata": {},
   "outputs": [],
   "source": [
    "welcome_prompt = \"\"\"Part 1: Context Setting\n",
    "You are an expert curriculum designer with extensive knowledge across various subjects. Your task is to create a comprehensive course outline based on the user's question or topic of interest. The course should be suitable for self-study and cover all necessary aspects of the subject.\n",
    "Part 2: Input Processing\n",
    "User Input: [Insert user's question or topic here]\n",
    "Based on the user's input, identify the main subject area, the depth of knowledge required, and any specific aspects the user might be interested in. Consider the potential background of someone asking this question and tailor the course accordingly.\n",
    "Part 3: Output Instructions\n",
    "Generate a full course outline in markdown format, including:\n",
    "\n",
    "Course Title\n",
    "Course Description (2-3 sentences)\n",
    "Learning Objectives (3-5 bullet points)\n",
    "Prerequisites (if any)\n",
    "Module Breakdown (5-8 modules)\n",
    "For each module, include:\n",
    "\n",
    "Module title\n",
    "Brief description\n",
    "Key topics covered (3-5 bullet points)\n",
    "Suggested resources (1-2 books, articles, or online materials)\n",
    "\n",
    "\n",
    "Assessment Methods (quizzes, projects, final exam, etc.)\n",
    "Additional Resources (optional further reading or study materials)\n",
    "\n",
    "Ensure the course structure is logical, progressive, and comprehensive. Use clear, concise language suitable for the target audience. Format the output in proper markdown for easy readability and potential integration into learning management systems.\"\"\""
   ]
  },
  {
   "cell_type": "code",
   "execution_count": null,
   "metadata": {},
   "outputs": [],
   "source": [
    "welcome_prompt_template = ChatPromptTemplate.from_messages(\n",
    "    [\n",
    "        (\n",
    "            \"system\",\n",
    "            welcome_prompt,\n",
    "        ),\n",
    "        (\"human\", \"{input}\"),\n",
    "    ]\n",
    ")\n",
    "\n",
    "welcome_chain = welcome_prompt_template | model"
   ]
  },
  {
   "cell_type": "code",
   "execution_count": null,
   "metadata": {},
   "outputs": [],
   "source": [
    "welcome_data_str = \"\"\n",
    "for chunk in welcome_chain.stream(\n",
    "    {\n",
    "        \"input\": user_prompt,\n",
    "    }\n",
    "):\n",
    "    welcome_data_str += chunk.content\n",
    "    print(chunk.content, end=\"\", flush=True)"
   ]
  },
  {
   "cell_type": "code",
   "execution_count": null,
   "metadata": {},
   "outputs": [],
   "source": [
    "course_welcome_data = json.loads(welcome_data_str)"
   ]
  },
  {
   "cell_type": "code",
   "execution_count": null,
   "metadata": {},
   "outputs": [],
   "source": [
    "print(course_welcome_data[\"course_name\"])\n",
    "print(course_welcome_data[\"description\"])"
   ]
  },
  {
   "cell_type": "markdown",
   "metadata": {},
   "source": [
    "# Generate an outline prompt\n"
   ]
  },
  {
   "cell_type": "code",
   "execution_count": null,
   "metadata": {},
   "outputs": [],
   "source": [
    "outline_prompt = \"\"\"Given the following course title and description, generate a comma-separated list of 5-10 logical sections \n",
    "or modules that would make up a comprehensive curriculum for that course. \n",
    "Ensure the sections flow in a sensible order from beginner to more advanced topics. \n",
    "The sections or modules should appear as natural language. \n",
    "Format the response as a single line of text with no line breaks. Do not say anything else.\"\"\""
   ]
  },
  {
   "cell_type": "code",
   "execution_count": null,
   "metadata": {},
   "outputs": [],
   "source": [
    "outline_prompt_template = ChatPromptTemplate.from_messages(\n",
    "    [\n",
    "        (\n",
    "            \"system\",\n",
    "            outline_prompt,\n",
    "        ),\n",
    "        (\"human\", \"{input}\"),\n",
    "    ]\n",
    ")\n",
    "\n",
    "outline_chain = outline_prompt_template | model"
   ]
  },
  {
   "cell_type": "code",
   "execution_count": null,
   "metadata": {},
   "outputs": [],
   "source": [
    "sections = \"\"\n",
    "for chunk in outline_chain.stream(\n",
    "    {\n",
    "        \"input\": f\"{course_welcome_data[\"course_name\"]} {course_welcome_data[\"description\"]}\",\n",
    "    }\n",
    "):\n",
    "    sections += chunk.content\n",
    "    print(chunk.content, end=\"\", flush=True)"
   ]
  },
  {
   "cell_type": "code",
   "execution_count": null,
   "metadata": {},
   "outputs": [],
   "source": [
    "sections = sections.split(\",\")"
   ]
  },
  {
   "cell_type": "markdown",
   "metadata": {},
   "source": [
    "# Generate modules prompt\n"
   ]
  },
  {
   "cell_type": "code",
   "execution_count": null,
   "metadata": {},
   "outputs": [],
   "source": [
    "section_prompt = \"\"\"You are an expert curriculum designer and educational content creator. \n",
    "Your task is to create a detailed content structure for a course module or chapter. Please follow these guidelines: \n",
    "Structure Requirements: \n",
    "Begin with an introduction to the topic. \n",
    "Include 5-10 main sections or comprehensive lessons. \n",
    "Ensure a logical flow from basic to more advanced concepts. \n",
    "Incorporate diverse learning activities, exercises, solutions, and assessments. \n",
    "End with a summary and connection to broader course themes. \n",
    "For each main section or lesson: \n",
    "Provide a clear, engaging title. \n",
    "Include at least 5-10 sentences about the section or lesson. \n",
    "The user should fully understand the lesson in detail after reading the section.\n",
    "Please generate a comprehensive content structure based on these guidelines given the chapter title and the other course context provided below. \n",
    "Your response should be in a clear, hierarchical format that an educator or instructional designer could easily follow and adapt. \n",
    "Ensure your output is in Markdown format and do not say anything else.\"\"\""
   ]
  },
  {
   "cell_type": "code",
   "execution_count": null,
   "metadata": {},
   "outputs": [],
   "source": [
    "section_prompt_template = ChatPromptTemplate.from_messages(\n",
    "    [\n",
    "        (\n",
    "            \"system\",\n",
    "            section_prompt,\n",
    "        ),\n",
    "        (\n",
    "            \"human\",\n",
    "            \"{input}\",\n",
    "        ),\n",
    "    ]\n",
    ")\n",
    "\n",
    "section_chain = section_prompt_template | model"
   ]
  },
  {
   "cell_type": "code",
   "execution_count": null,
   "metadata": {},
   "outputs": [],
   "source": [
    "documents = []\n",
    "for i, section in enumerate(sections):\n",
    "    document = {\"title\": section, \"content\": \"\"}\n",
    "    for chunk in section_chain.stream(\n",
    "        {\n",
    "            \"input\": f\"\"\"Course Title: { course_welcome_data[\"course_name\"]}\\nCourse Description: { course_welcome_data[\"description\"]}\\n Previously covered chapters: {sections[i:]}\\nChapter Title: {section}\\nChapter Number:{i+1}\"\"\"\n",
    "        }\n",
    "    ):\n",
    "        document[\"content\"] += chunk.content\n",
    "        print(chunk.content, end=\"\", flush=True)\n",
    "    documents.append(document)"
   ]
  },
  {
   "cell_type": "code",
   "execution_count": null,
   "metadata": {},
   "outputs": [],
   "source": [
    "from IPython.display import display, Markdown\n",
    "\n",
    "for document in documents:\n",
    "    display(Markdown(document[\"content\"]))"
   ]
  }
 ],
 "metadata": {
  "kernelspec": {
   "display_name": ".venv",
   "language": "python",
   "name": "python3"
  },
  "language_info": {
   "codemirror_mode": {
    "name": "ipython",
    "version": 3
   },
   "file_extension": ".py",
   "mimetype": "text/x-python",
   "name": "python",
   "nbconvert_exporter": "python",
   "pygments_lexer": "ipython3",
   "version": "3.12.4"
  }
 },
 "nbformat": 4,
 "nbformat_minor": 2
}
