{
 "cells": [
  {
   "cell_type": "code",
   "execution_count": null,
   "metadata": {},
   "outputs": [],
   "source": [
    "from langchain_ollama import ChatOllama\n",
    "from langchain_core.prompts import ChatPromptTemplate\n",
    "import json\n",
    "\n",
    "model = ChatOllama(\n",
    "    model=\"llama3.1\",\n",
    ")"
   ]
  },
  {
   "cell_type": "code",
   "execution_count": null,
   "metadata": {},
   "outputs": [],
   "source": [
    "user_prompt = \"Teach me about machine learning in R\""
   ]
  },
  {
   "cell_type": "markdown",
   "metadata": {},
   "source": [
    "# Generate Initial Course Data\n"
   ]
  },
  {
   "cell_type": "code",
   "execution_count": null,
   "metadata": {},
   "outputs": [],
   "source": [
    "base_course_prompt = \"\"\"You are a content creation wizard. Given a user query about a course they would like to learn about, \n",
    "generate a title, description, and a comma-separated list of 5-10 logical sections \n",
    "or modules that would make up a comprehensive curriculum for that course in JSON format. \n",
    "The output should be in JSON format with the fields title, description, and modules. \n",
    "Ensure the modules flow in a sensible order from beginner to more advanced topics. \n",
    "The modules should appear as natural language. \n",
    "Title and description fields will be a normal string and the module will be a list of strings. \n",
    "Remember, do not say anything else, just the JSON object.\"\"\""
   ]
  },
  {
   "cell_type": "code",
   "execution_count": null,
   "metadata": {},
   "outputs": [],
   "source": [
    "from langchain_core.prompts import FewShotChatMessagePromptTemplate\n",
    "\n",
    "base_course_examples = [\n",
    "    {\n",
    "        \"input\": \"Teach me about making games in C\",\n",
    "        \"output\": \"\"\"{\n",
    "  \"title\": \"Game Development with C: From Basics to Advanced Techniques\",\n",
    "  \"description\": \"Learn the fundamentals and best practices of creating engaging games using the C programming language. This comprehensive course covers game development basics, game loop, event handling, graphics, sound, AI, physics, and more.\",\n",
    "  \"modules\": [\n",
    "    \"Introduction to Game Development with C: Setting up a Development Environment\",\n",
    "    \"Game Loop Fundamentals: Understanding the Main Loop, Input Handling, and Timing\",\n",
    "    \"Event Handling in Games: Mouse, Keyboard, and Gamepad Inputs\",\n",
    "    \"2D Graphics Programming with SDL and OpenGL: Drawing Shapes, Textures, and Sprites\",\n",
    "    \"Sound Design for Games: Creating Audio Effects and Music with FMOD and OpenAL\",\n",
    "    \"Game AI and Pathfinding: Implementing Simple AI Behaviors and Complex Routing Algorithms\",\n",
    "    \"Physics Engines in Games: Using Bullet Physics and PhysX to Simulate Real-World Dynamics\",\n",
    "    \"Advanced Game Development Topics: Networking, Multiplayer, and Optimization Techniques\",\n",
    "    \"Project Development: Creating a Complete 2D Game with C, SDL, OpenGL, and FMOD\"\n",
    "  ]\n",
    "}\"\"\",\n",
    "    },\n",
    "]\n",
    "\n",
    "example_prompt = ChatPromptTemplate.from_messages(\n",
    "    [\n",
    "        (\"human\", \"{input}\"),\n",
    "        (\"ai\", \"{output}\"),\n",
    "    ]\n",
    ")\n",
    "\n",
    "base_course_few_shot_template = FewShotChatMessagePromptTemplate(\n",
    "    example_prompt=example_prompt, examples=base_course_examples\n",
    ")\n",
    "\n",
    "base_course_prompt = ChatPromptTemplate.from_messages(\n",
    "    [\n",
    "        (\"system\", base_course_prompt),\n",
    "        base_course_few_shot_template,\n",
    "        (\"human\", \"{input}\"),\n",
    "    ]\n",
    ")\n",
    "\n",
    "base_course_chain = base_course_prompt | model"
   ]
  },
  {
   "cell_type": "code",
   "execution_count": null,
   "metadata": {},
   "outputs": [],
   "source": [
    "welcome_data_str = \"\"\n",
    "for chunk in base_course_chain.stream(\n",
    "    {\n",
    "        \"input\": user_prompt,\n",
    "    }\n",
    "):\n",
    "    welcome_data_str += chunk.content\n",
    "    print(chunk.content, end=\"\", flush=True)"
   ]
  },
  {
   "cell_type": "code",
   "execution_count": null,
   "metadata": {},
   "outputs": [],
   "source": [
    "course_data = json.loads(welcome_data_str)"
   ]
  },
  {
   "cell_type": "code",
   "execution_count": null,
   "metadata": {},
   "outputs": [],
   "source": [
    "print(course_data[\"title\"])\n",
    "print(course_data[\"description\"])\n",
    "print(course_data[\"modules\"])"
   ]
  },
  {
   "cell_type": "markdown",
   "metadata": {},
   "source": [
    "# Generate modules prompt\n"
   ]
  },
  {
   "cell_type": "code",
   "execution_count": null,
   "metadata": {},
   "outputs": [],
   "source": [
    "section_prompt = \"\"\"You are an expert curriculum designer and educational content creator. \n",
    "Your task is to create a detailed content structure for a course module. Please follow these guidelines: \n",
    "Start each module with a short introduction of the topic. Follow that with walking the student through \n",
    "the 5-10 key concepts needed to understand the topic in great detail. The concepts should be descriptive and robust. \n",
    "If possible, provide examples to help reinforce concepts. \n",
    "End the module with at least 3 practice problems to understand the topic ranging from easy, medium, to hard. \n",
    "Remember not to cover a topic that was previously covered in another module. \n",
    "Ensure your output is in Markdown format and do not say anything else.\"\"\""
   ]
  },
  {
   "cell_type": "code",
   "execution_count": null,
   "metadata": {},
   "outputs": [],
   "source": [
    "section_prompt_template = ChatPromptTemplate.from_messages(\n",
    "    [\n",
    "        (\n",
    "            \"system\",\n",
    "            section_prompt,\n",
    "        ),\n",
    "        (\n",
    "            \"human\",\n",
    "            \"{input}\",\n",
    "        ),\n",
    "    ]\n",
    ")\n",
    "\n",
    "section_chain = section_prompt_template | model"
   ]
  },
  {
   "cell_type": "code",
   "execution_count": null,
   "metadata": {},
   "outputs": [],
   "source": [
    "documents = []\n",
    "for i, module in enumerate(course_data[\"modules\"]):\n",
    "    document = {\"title\": module, \"content\": \"\"}\n",
    "    for chunk in section_chain.stream(\n",
    "        {\n",
    "            \"input\": f\"\"\"Course Title: { course_data[\"title\"]}\\nCourse Description: { course_data[\"description\"]}\\nPreviously covered modules: {module[i:]}\\nModule Title: {module}\\nModule Number:{i+1}\"\"\"\n",
    "        }\n",
    "    ):\n",
    "        document[\"content\"] += chunk.content\n",
    "        print(chunk.content, end=\"\", flush=True)\n",
    "    documents.append(document)"
   ]
  },
  {
   "cell_type": "code",
   "execution_count": null,
   "metadata": {},
   "outputs": [],
   "source": [
    "from IPython.display import display, Markdown\n",
    "\n",
    "for document in documents:\n",
    "    display(Markdown(document[\"content\"]))"
   ]
  }
 ],
 "metadata": {
  "kernelspec": {
   "display_name": ".venv",
   "language": "python",
   "name": "python3"
  },
  "language_info": {
   "codemirror_mode": {
    "name": "ipython",
    "version": 3
   },
   "file_extension": ".py",
   "mimetype": "text/x-python",
   "name": "python",
   "nbconvert_exporter": "python",
   "pygments_lexer": "ipython3",
   "version": "3.12.4"
  }
 },
 "nbformat": 4,
 "nbformat_minor": 2
}
